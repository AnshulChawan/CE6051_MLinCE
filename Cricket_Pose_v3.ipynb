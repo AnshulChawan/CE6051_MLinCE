{
  "nbformat": 4,
  "nbformat_minor": 0,
  "metadata": {
    "colab": {
      "provenance": []
    },
    "kernelspec": {
      "name": "python3",
      "display_name": "Python 3"
    },
    "language_info": {
      "name": "python"
    }
  },
  "cells": [
    {
      "cell_type": "code",
      "execution_count": null,
      "metadata": {
        "id": "9V9xrJWOhCP3"
      },
      "outputs": [],
      "source": [
        "import cv2\n",
        "import numpy as np\n",
        "import tensorflow as tf\n",
        "import tensorflow_hub as hub\n",
        "import os\n",
        "from matplotlib import pyplot as plt\n",
        "from sklearn.model_selection import train_test_split\n",
        "from sklearn.linear_model import LogisticRegression\n",
        "from sklearn.ensemble import RandomForestClassifier\n",
        "from sklearn.metrics import accuracy_score, classification_report, confusion_matrix\n",
        "from xgboost import XGBClassifier\n",
        "from sklearn.svm import LinearSVC\n",
        "from sklearn.neural_network import MLPClassifier\n",
        "from sklearn.preprocessing import StandardScaler\n",
        "from sklearn.metrics import confusion_matrix\n",
        "import seaborn as sns"
      ]
    },
    {
      "cell_type": "code",
      "source": [
        "from google.colab import drive\n",
        "drive.mount('/content/drive')"
      ],
      "metadata": {
        "colab": {
          "base_uri": "https://localhost:8080/"
        },
        "id": "ajdi2qYNk84v",
        "outputId": "9813d4af-2292-429f-9b90-09efc42e6e9f"
      },
      "execution_count": null,
      "outputs": [
        {
          "output_type": "stream",
          "name": "stdout",
          "text": [
            "Mounted at /content/drive\n"
          ]
        }
      ]
    },
    {
      "cell_type": "code",
      "source": [
        "# testing data\n",
        "\n",
        "base_dir = '/content/drive/MyDrive/Pose Estimation/data/Taken'\n",
        "\n",
        "# Function to retrieve all image paths from a directory\n",
        "def get_image_paths(directory):\n",
        "    # List to store paths\n",
        "    image_paths = []\n",
        "    # os.walk goes through all subdirectories\n",
        "    for subdir, dirs, files in os.walk(directory):\n",
        "        for file in files:\n",
        "            # Check for jpeg files\n",
        "            if file.endswith(\".jpeg\") or file.endswith(\".jpg\"):\n",
        "                # Construct full file path\n",
        "                full_path = os.path.join(subdir, file)\n",
        "                image_paths.append(full_path)\n",
        "    return image_paths\n",
        "\n",
        "# Get image paths for 'sweep' and 'pull' directories\n",
        "sweep_images = get_image_paths(os.path.join(base_dir, 'sweep'))\n",
        "pull_images = get_image_paths(os.path.join(base_dir, 'pull'))\n",
        "\n",
        "# Combine all image paths\n",
        "all_image_paths = sweep_images + pull_images\n",
        "\n",
        "images_to_remove = ['5.jpeg', '3pull.jpeg']\n",
        "\n",
        "# Filter out specific images\n",
        "filtered_image_paths = [path for path in all_image_paths if not any(img in path for img in images_to_remove)]\n",
        "\n",
        "# Print remaining image paths\n",
        "for path in filtered_image_paths:\n",
        "    print(path)\n"
      ],
      "metadata": {
        "colab": {
          "base_uri": "https://localhost:8080/"
        },
        "id": "MlzlWLbn-yC_",
        "outputId": "7507ba7d-ecb7-449d-9748-a83312f2a93d"
      },
      "execution_count": null,
      "outputs": [
        {
          "output_type": "stream",
          "name": "stdout",
          "text": [
            "/content/drive/MyDrive/Pose Estimation/data/Taken/sweep/1.jpeg\n",
            "/content/drive/MyDrive/Pose Estimation/data/Taken/sweep/2.jpeg\n",
            "/content/drive/MyDrive/Pose Estimation/data/Taken/sweep/3.jpeg\n",
            "/content/drive/MyDrive/Pose Estimation/data/Taken/sweep/4.jpeg\n",
            "/content/drive/MyDrive/Pose Estimation/data/Taken/pull/4pull.jpeg\n",
            "/content/drive/MyDrive/Pose Estimation/data/Taken/pull/5pull.jpeg\n",
            "/content/drive/MyDrive/Pose Estimation/data/Taken/pull/6pull.jpeg\n",
            "/content/drive/MyDrive/Pose Estimation/data/Taken/pull/2pull.jpeg\n",
            "/content/drive/MyDrive/Pose Estimation/data/Taken/pull/1pull.jpeg\n"
          ]
        }
      ]
    },
    {
      "cell_type": "code",
      "source": [
        "# Training Data\n",
        "\n",
        "base_dir2 = '/content/drive/MyDrive/Pose Estimation/data/Manual'\n",
        "\n",
        "# Function to retrieve all image paths from a directory\n",
        "def get_image_paths(directory):\n",
        "    # List to store paths\n",
        "    image_paths = []\n",
        "    # os.walk goes through all subdirectories\n",
        "    for subdir, dirs, files in os.walk(directory):\n",
        "        for file in files:\n",
        "            # Check for jpeg files\n",
        "            if file.endswith(\".jpeg\") or file.endswith(\".jpg\"):\n",
        "                # Construct full file path\n",
        "                full_path = os.path.join(subdir, file)\n",
        "                image_paths.append(full_path)\n",
        "    return image_paths\n",
        "\n",
        "# Get image paths for 'sweep' and 'pull' directories\n",
        "sweep_images_t = get_image_paths(os.path.join(base_dir2, 'Sweep'))\n",
        "pull_images_t = get_image_paths(os.path.join(base_dir2, 'Pull'))\n",
        "\n",
        "# Combine all image paths\n",
        "all_image_paths_t = sweep_images_t + pull_images_t\n",
        "\n",
        "all_image_paths_t"
      ],
      "metadata": {
        "colab": {
          "base_uri": "https://localhost:8080/"
        },
        "id": "d9OD7UvLHaOS",
        "outputId": "43657c12-0d8e-4994-8898-45f86664d717"
      },
      "execution_count": null,
      "outputs": [
        {
          "output_type": "execute_result",
          "data": {
            "text/plain": [
              "['/content/drive/MyDrive/Pose Estimation/data/Manual/Sweep/1.jpg',\n",
              " '/content/drive/MyDrive/Pose Estimation/data/Manual/Sweep/2.jpg',\n",
              " '/content/drive/MyDrive/Pose Estimation/data/Manual/Sweep/3.jpg',\n",
              " '/content/drive/MyDrive/Pose Estimation/data/Manual/Sweep/4.jpg',\n",
              " '/content/drive/MyDrive/Pose Estimation/data/Manual/Sweep/5.jpg',\n",
              " '/content/drive/MyDrive/Pose Estimation/data/Manual/Sweep/6.jpg',\n",
              " '/content/drive/MyDrive/Pose Estimation/data/Manual/Sweep/7.jpg',\n",
              " '/content/drive/MyDrive/Pose Estimation/data/Manual/Sweep/8.jpg',\n",
              " '/content/drive/MyDrive/Pose Estimation/data/Manual/Sweep/9.jpg',\n",
              " '/content/drive/MyDrive/Pose Estimation/data/Manual/Pull/1.jpg',\n",
              " '/content/drive/MyDrive/Pose Estimation/data/Manual/Pull/2.jpg',\n",
              " '/content/drive/MyDrive/Pose Estimation/data/Manual/Pull/3.jpg',\n",
              " '/content/drive/MyDrive/Pose Estimation/data/Manual/Pull/4.jpg',\n",
              " '/content/drive/MyDrive/Pose Estimation/data/Manual/Pull/5.jpg',\n",
              " '/content/drive/MyDrive/Pose Estimation/data/Manual/Pull/6.jpg',\n",
              " '/content/drive/MyDrive/Pose Estimation/data/Manual/Pull/7.jpg']"
            ]
          },
          "metadata": {},
          "execution_count": 4
        }
      ]
    },
    {
      "cell_type": "code",
      "source": [
        "model = hub.load('https://tfhub.dev/google/movenet/singlepose/lightning/4')\n",
        "movenet = model.signatures['serving_default']"
      ],
      "metadata": {
        "id": "Yg5EumZcufiB"
      },
      "execution_count": null,
      "outputs": []
    },
    {
      "cell_type": "code",
      "source": [
        "image_path= '/content/drive/MyDrive/Pose Estimation/data/Manual/Pull/1.jpg'"
      ],
      "metadata": {
        "id": "OUNIfENIlTHP"
      },
      "execution_count": null,
      "outputs": []
    },
    {
      "cell_type": "code",
      "source": [
        "# Just estimate\n",
        "\n",
        "def run_pose_estimation(image_path):\n",
        "    # Load and prepare the image\n",
        "    img = tf.io.read_file(image_path)\n",
        "    img = tf.image.decode_jpeg(img, channels=3)  # Decode the image\n",
        "    img = tf.image.convert_image_dtype(img, tf.float32)  # Convert to float values in [0, 1]\n",
        "\n",
        "    # Resize the image to match the expected input size of MoveNet\n",
        "    img = tf.image.resize(img, (192, 192))\n",
        "\n",
        "    # Convert the image to int32 data type\n",
        "    img = tf.cast(img * 255, dtype=tf.int32)\n",
        "\n",
        "    # Add a batch dimension\n",
        "    img = tf.expand_dims(img, axis=0)\n",
        "\n",
        "    # Run model inference\n",
        "    results = movenet(input=img)  # Pass the image as 'input' argument\n",
        "    keypoints = results['output_0'].numpy()\n",
        "\n",
        "    # Display the image and keypoints\n",
        "    plt.figure(figsize=(10, 10))\n",
        "    plt.imshow(tf.squeeze(img).numpy())  # Remove batch dimension before plotting\n",
        "    height, width, _ = img.shape[1:]  # Get height and width after removing batch dimension\n",
        "    for keypoint in keypoints[0][0]:\n",
        "        y, x, confidence = keypoint\n",
        "        if confidence > 0.1:\n",
        "            plt.plot(x * width, y * height, 'ro', markersize=5)\n",
        "    plt.axis('off')\n",
        "    plt.show()\n",
        "\n",
        "\n",
        "\n"
      ],
      "metadata": {
        "id": "qsCdL0A8thrN"
      },
      "execution_count": null,
      "outputs": []
    },
    {
      "cell_type": "code",
      "source": [
        "# Draw too\n",
        "\n",
        "def draw_pose(image, keypoints):\n",
        "    # Define the connections between keypoints to form a pose\n",
        "    connections = [\n",
        "        [0, 1], [0, 2], [1, 3], [2, 4],  # Upper body\n",
        "        [5, 6], [5, 7], [7, 9], [6, 8],  # Lower body\n",
        "        [8, 10], [5, 11], [6, 12], [11, 12],  # Arms\n",
        "        [11, 13], [12, 14], [13, 15], [14, 16]  # Forearms\n",
        "    ]\n",
        "\n",
        "    # Convert image from float to uint8\n",
        "    image = tf.image.convert_image_dtype(image, dtype=tf.uint8)\n",
        "    image = tf.squeeze(image)  # Remove batch dimension\n",
        "\n",
        "    # Plot the image\n",
        "    plt.figure(figsize=(10, 10))\n",
        "    plt.imshow(image)\n",
        "    height, width = image.shape[:2]\n",
        "\n",
        "    # Plot keypoints\n",
        "    for keypoint in keypoints[0][0]:\n",
        "        y, x, confidence = keypoint\n",
        "        if confidence > 0.1:  #\n",
        "            plt.plot(x * width, y * height, 'ro', markersize=5)\n",
        "\n",
        "    # Connect keypoints to visualize the pose\n",
        "    for connection in connections:\n",
        "        start_keypoint = keypoints[0][0][connection[0]]\n",
        "        end_keypoint = keypoints[0][0][connection[1]]\n",
        "        start_point = (start_keypoint[1] * width, start_keypoint[0] * height)  # Flip x and y\n",
        "        end_point = (end_keypoint[1] * width, end_keypoint[0] * height)  # Flip x and y\n",
        "        plt.plot([start_point[0], end_point[0]], [start_point[1], end_point[1]], 'g-', linewidth=2)\n",
        "\n",
        "    plt.axis('off')\n",
        "    plt.show()\n",
        "\n",
        "def run_pose_estimation(image_path):\n",
        "    # Load and prepare the image\n",
        "    img = tf.io.read_file(image_path)\n",
        "    img = tf.image.decode_jpeg(img, channels=3)  # Decode the image\n",
        "    img = tf.image.convert_image_dtype(img, tf.float32)  # Convert to float values in [0, 1]\n",
        "\n",
        "    # Resize the image to match the expected input size of MoveNet\n",
        "    img = tf.image.resize(img, (192, 192))\n",
        "\n",
        "    # Convert the image to int32 data type\n",
        "    img = tf.cast(img * 255, dtype=tf.int32)\n",
        "\n",
        "    # Add a batch dimension\n",
        "    img = tf.expand_dims(img, axis=0)\n",
        "\n",
        "    # Run model inference\n",
        "    results = movenet(input=img)  # Pass the image as 'input' argument\n",
        "    keypoints = results['output_0'].numpy()\n",
        "\n",
        "\n",
        "    # Draw pose on the image\n",
        "    draw_pose(img, keypoints)\n"
      ],
      "metadata": {
        "id": "Hxiq-dFzl8yd"
      },
      "execution_count": null,
      "outputs": []
    },
    {
      "cell_type": "code",
      "source": [
        "run_pose_estimation(image_path)"
      ],
      "metadata": {
        "colab": {
          "base_uri": "https://localhost:8080/",
          "height": 807
        },
        "id": "aGkYKkn4l2eC",
        "outputId": "c0e5cf1a-ab2a-4edc-c4bd-6cc314e9d17d"
      },
      "execution_count": null,
      "outputs": [
        {
          "output_type": "display_data",
          "data": {
            "text/plain": [
              "<Figure size 1000x1000 with 1 Axes>"
            ],
            "image/png": "[encoded data removed]"
          },
          "metadata": {}
        }
      ]
    },
    {
      "cell_type": "code",
      "source": [
        "# Let's try classification:"
      ],
      "metadata": {
        "id": "W4E7gEIpvJCq"
      },
      "execution_count": null,
      "outputs": []
    },
    {
      "cell_type": "code",
      "source": [
        "# Load the MoveNet \"lightning\" model from TensorFlow Hub\n",
        "model = hub.load('https://tfhub.dev/google/movenet/singlepose/lightning/4')\n",
        "movenet = model.signatures['serving_default']\n",
        "\n",
        "# Function to extract keypoints from an image\n",
        "def extract_keypoints(image_path):\n",
        "    # Load and prepare the image\n",
        "    img = tf.io.read_file(image_path)\n",
        "    img = tf.image.decode_jpeg(img, channels=3)  # Decode the image\n",
        "    img = tf.image.convert_image_dtype(img, tf.float32)  # Convert to float values in [0, 1]\n",
        "\n",
        "    # Resize the image to match the expected input size of MoveNet\n",
        "    img = tf.image.resize(img, (192, 192))\n",
        "\n",
        "    # Convert the image to int32 data type\n",
        "    img = tf.cast(img * 255, dtype=tf.int32)\n",
        "\n",
        "    # Add a batch dimension\n",
        "    img = tf.expand_dims(img, axis=0)\n",
        "\n",
        "    # Run model inference\n",
        "    results = movenet(input=img)  # Pass the image as 'input' argument\n",
        "    keypoints = results['output_0'].numpy()\n",
        "\n",
        "    # Flatten the keypoints array\n",
        "    keypoints_flat = keypoints.flatten()\n",
        "\n",
        "    return keypoints_flat\n",
        "\n",
        "# Example usage\n",
        "# Prepare your dataset with labeled images for pull shots and sweep shots\n",
        "# Replace 'image_paths_pull' and 'image_paths_sweep' with paths to your labeled images\n",
        "plusp = ['/content/drive/MyDrive/Pose Estimation/data/Taken/pull/3pull.jpeg']\n",
        "image_paths_pull = pull_images_t + plusp\n",
        "pluss = ['/content/drive/MyDrive/Pose Estimation/data/Taken/sweep/2.jpeg']\n",
        "image_paths_sweep = sweep_images_t +pluss\n",
        "\n",
        "\n",
        "# Extract keypoints from labeled images\n",
        "X_pull = np.array([extract_keypoints(image_path) for image_path in image_paths_pull])\n",
        "X_sweep = np.array([extract_keypoints(image_path) for image_path in image_paths_sweep])\n",
        "\n",
        "# Create labels for pull shots (class 0) and sweep shots (class 1)\n",
        "y_pull = np.zeros(len(X_pull))\n",
        "y_sweep = np.ones(len(X_sweep))\n",
        "\n",
        "# Concatenate feature matrices and labels\n",
        "X = np.concatenate((X_pull, X_sweep), axis=0)\n",
        "y = np.concatenate((y_pull, y_sweep), axis=0)\n",
        "\n",
        "X_train = np.concatenate((X_pull, X_sweep), axis=0)\n",
        "y_train = np.concatenate((y_pull, y_sweep), axis=0)\n",
        "\n",
        "# Train a logistic regression classifier\n",
        "#model = LogisticRegression()\n",
        "#model = RandomForestClassifier(n_estimators=500, random_state=42)\n",
        "model = XGBClassifier(use_label_encoder=False, eval_metric='mlogloss')\n",
        "#model = LinearSVC(C=1.0, max_iter=10000)\n",
        "#model = MLPClassifier(tol=1e-6,activation='relu',hidden_layer_sizes=(30,4), max_iter=10000, alpha=1e-4,solver='sgd', verbose=10, random_state=1,learning_rate_init=.1)\n",
        "model.fit(X_train, y_train)\n",
        "\n",
        "# Load test data\n",
        "\n",
        "image_paths_pull_v = pull_images\n",
        "image_paths_sweep_v = sweep_images\n",
        "\n",
        "\n",
        "# Extract keypoints from labeled images\n",
        "X_pull_v = np.array([extract_keypoints(image_path) for image_path in image_paths_pull_v])\n",
        "X_sweep_v = np.array([extract_keypoints(image_path) for image_path in image_paths_sweep_v])\n",
        "\n",
        "# Create labels for pull shots (class 0) and sweep shots (class 1)\n",
        "y_pull_v = np.zeros(len(X_pull_v))\n",
        "y_sweep_v = np.ones(len(X_sweep_v))\n",
        "\n",
        "# Concatenate feature matrices and labels\n",
        "\n",
        "X_test = np.concatenate((X_pull_v, X_sweep_v), axis=0)\n",
        "y_test = np.concatenate((y_pull_v, y_sweep_v), axis=0)\n",
        "\n",
        "test_image_paths = pull_images + sweep_images\n",
        "\n",
        "# Predict on test data\n",
        "y_pred = model.predict(X_test)\n",
        "\n",
        "print(\"Predictions for test images:\")\n",
        "for image_path, prediction in zip(test_image_paths, y_pred):\n",
        "    print(f\"Image: {image_path}, Predicted class: {'pull shot' if prediction == 0 else 'sweep shot'}\")\n"
      ],
      "metadata": {
        "colab": {
          "base_uri": "https://localhost:8080/"
        },
        "id": "NruueF65wQl4",
        "outputId": "c8d09dfe-b18b-48a7-8265-c896e79acd42"
      },
      "execution_count": null,
      "outputs": [
        {
          "output_type": "stream",
          "name": "stdout",
          "text": [
            "Predictions for test images:\n",
            "Image: /content/drive/MyDrive/Pose Estimation/data/Taken/pull/3pull.jpeg, Predicted class: pull shot\n",
            "Image: /content/drive/MyDrive/Pose Estimation/data/Taken/pull/4pull.jpeg, Predicted class: pull shot\n",
            "Image: /content/drive/MyDrive/Pose Estimation/data/Taken/pull/5pull.jpeg, Predicted class: pull shot\n",
            "Image: /content/drive/MyDrive/Pose Estimation/data/Taken/pull/6pull.jpeg, Predicted class: pull shot\n",
            "Image: /content/drive/MyDrive/Pose Estimation/data/Taken/pull/2pull.jpeg, Predicted class: pull shot\n",
            "Image: /content/drive/MyDrive/Pose Estimation/data/Taken/pull/1pull.jpeg, Predicted class: pull shot\n",
            "Image: /content/drive/MyDrive/Pose Estimation/data/Taken/sweep/1.jpeg, Predicted class: sweep shot\n",
            "Image: /content/drive/MyDrive/Pose Estimation/data/Taken/sweep/2.jpeg, Predicted class: sweep shot\n",
            "Image: /content/drive/MyDrive/Pose Estimation/data/Taken/sweep/3.jpeg, Predicted class: sweep shot\n",
            "Image: /content/drive/MyDrive/Pose Estimation/data/Taken/sweep/4.jpeg, Predicted class: sweep shot\n",
            "Image: /content/drive/MyDrive/Pose Estimation/data/Taken/sweep/5.jpeg, Predicted class: sweep shot\n"
          ]
        }
      ]
    },
    {
      "cell_type": "code",
      "source": [
        "cm = confusion_matrix(y_test, y_pred, normalize='true')"
      ],
      "metadata": {
        "id": "uDogFo3jKzxB"
      },
      "execution_count": null,
      "outputs": []
    },
    {
      "cell_type": "code",
      "source": [
        "plt.figure(figsize=(5,3))\n",
        "sns.heatmap(cm, annot=True, fmt='g', cmap='Blues')  # 'g' for integer formatting\n",
        "plt.xlabel('Predicted labels')\n",
        "plt.ylabel('True labels')\n",
        "plt.title('Confusion Matrix')\n",
        "plt.show()"
      ],
      "metadata": {
        "colab": {
          "base_uri": "https://localhost:8080/",
          "height": 333
        },
        "id": "k0EnlG4ncGDE",
        "outputId": "6af04749-7a57-4b91-9bf0-32802ecd0331"
      },
      "execution_count": null,
      "outputs": [
        {
          "output_type": "display_data",
          "data": {
            "text/plain": [
              "<Figure size 500x300 with 2 Axes>"
            ],
            "image/png": "[encoded data removed]"
          },
          "metadata": {}
        }
      ]
    },
    {
      "cell_type": "code",
      "source": [],
      "metadata": {
        "id": "-6IPIV9oczem"
      },
      "execution_count": null,
      "outputs": []
    }
  ]
}